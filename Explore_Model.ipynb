{
 "cells": [
  {
   "cell_type": "code",
   "execution_count": 1,
   "id": "623b27e7-7387-420b-94e6-1ddf2d3fe749",
   "metadata": {
    "tags": []
   },
   "outputs": [
    {
     "name": "stdout",
     "output_type": "stream",
     "text": [
      "Requirement already satisfied: scipy==1.4.1 in /home/jupyter-rohr/.local/lib/python3.8/site-packages (from -r requirements_new.txt (line 1)) (1.4.1)\n",
      "Requirement already satisfied: matplotlib==3.3.0 in /home/jupyter-rohr/.local/lib/python3.8/site-packages (from -r requirements_new.txt (line 2)) (3.3.0)\n",
      "Requirement already satisfied: numpy==1.18.5 in /home/jupyter-rohr/.local/lib/python3.8/site-packages (from -r requirements_new.txt (line 3)) (1.18.5)\n",
      "Requirement already satisfied: py-ecg-detectors==1.0.2 in /home/jupyter-rohr/.local/lib/python3.8/site-packages (from -r requirements_new.txt (line 4)) (1.0.2)\n",
      "Requirement already satisfied: pandas==1.1.0 in /home/jupyter-rohr/.local/lib/python3.8/site-packages (from -r requirements_new.txt (line 5)) (1.1.0)\n",
      "Requirement already satisfied: mysql-connector-python==8.0.26 in /home/jupyter-rohr/.local/lib/python3.8/site-packages (from -r requirements_new.txt (line 6)) (8.0.26)\n",
      "Requirement already satisfied: python-dateutil>=2.1 in /opt/tljh/user/envs/pytorch/lib/python3.8/site-packages (from matplotlib==3.3.0->-r requirements_new.txt (line 2)) (2.8.2)\n",
      "Requirement already satisfied: cycler>=0.10 in /opt/tljh/user/envs/pytorch/lib/python3.8/site-packages (from matplotlib==3.3.0->-r requirements_new.txt (line 2)) (0.11.0)\n",
      "Requirement already satisfied: pyparsing!=2.0.4,!=2.1.2,!=2.1.6,>=2.0.3 in /opt/tljh/user/envs/pytorch/lib/python3.8/site-packages (from matplotlib==3.3.0->-r requirements_new.txt (line 2)) (3.0.8)\n",
      "Requirement already satisfied: kiwisolver>=1.0.1 in /opt/tljh/user/envs/pytorch/lib/python3.8/site-packages (from matplotlib==3.3.0->-r requirements_new.txt (line 2)) (1.4.2)\n",
      "Requirement already satisfied: pillow>=6.2.0 in /opt/tljh/user/envs/pytorch/lib/python3.8/site-packages (from matplotlib==3.3.0->-r requirements_new.txt (line 2)) (9.1.0)\n",
      "Requirement already satisfied: gatspy in /opt/tljh/user/envs/pytorch/lib/python3.8/site-packages (from py-ecg-detectors==1.0.2->-r requirements_new.txt (line 4)) (0.3)\n",
      "Requirement already satisfied: pywavelets in /opt/tljh/user/envs/pytorch/lib/python3.8/site-packages (from py-ecg-detectors==1.0.2->-r requirements_new.txt (line 4)) (1.3.0)\n",
      "Requirement already satisfied: pytz>=2017.2 in /opt/tljh/user/envs/pytorch/lib/python3.8/site-packages (from pandas==1.1.0->-r requirements_new.txt (line 5)) (2022.1)\n",
      "Requirement already satisfied: protobuf>=3.0.0 in /home/jupyter-rohr/.local/lib/python3.8/site-packages (from mysql-connector-python==8.0.26->-r requirements_new.txt (line 6)) (3.20.1)\n",
      "Requirement already satisfied: six>=1.5 in /opt/tljh/user/envs/pytorch/lib/python3.8/site-packages (from python-dateutil>=2.1->matplotlib==3.3.0->-r requirements_new.txt (line 2)) (1.16.0)\n"
     ]
    }
   ],
   "source": [
    "!pip install --user -r requirements.txt"
   ]
  },
  {
   "cell_type": "code",
   "execution_count": 3,
   "id": "cc2ff5a7-547b-43ae-935d-1c384af89e14",
   "metadata": {},
   "outputs": [],
   "source": [
    "from predict import predict_labels\n",
    "from wettbewerb import load_references, save_predictions\n",
    "import time\n",
    "from score import score"
   ]
  },
  {
   "cell_type": "code",
   "execution_count": 4,
   "id": "244171ad-0ab1-4315-944b-9612e36ff97e",
   "metadata": {},
   "outputs": [
    {
     "name": "stdout",
     "output_type": "stream",
     "text": [
      "2\t Dateien wurden geladen.\n",
      "2\t Labels wurden geschrieben.\n",
      "Runtime 0.011408329010009766 s\n"
     ]
    }
   ],
   "source": [
    "ecg_leads, ecg_labels, fs, ecg_names = load_references('../shared_data/test_examples')\n",
    "\n",
    "start_time = time.time()\n",
    "predictions = predict_labels(ecg_leads, fs, ecg_names, model_name='model_pretrained.npy')\n",
    "pred_time = time.time()-start_time\n",
    "\n",
    "save_predictions(predictions)\n",
    "print(\"Runtime\", pred_time, \"s\")"
   ]
  },
  {
   "cell_type": "code",
   "execution_count": 5,
   "id": "8a0eac3e-b83b-47f9-b26b-d44e2149a204",
   "metadata": {},
   "outputs": [
    {
     "name": "stdout",
     "output_type": "stream",
     "text": [
      "F1: 0.0 \t MultilabelScore: 0.0\n"
     ]
    }
   ],
   "source": [
    "F1, F1_mult, Conf_Matrix = score('../shared_data/test_examples')\n",
    "print(\"F1:\", F1, \"\\t MultilabelScore:\", F1_mult)"
   ]
  },
  {
   "cell_type": "code",
   "execution_count": 6,
   "id": "bb1c10f8-df5b-4245-b2fc-9d9147064c2d",
   "metadata": {},
   "outputs": [
    {
     "data": {
      "text/plain": [
       "[('ecg_hid_example_00001', 'A'), ('ecg_hid_example_00002', 'A')]"
      ]
     },
     "execution_count": 6,
     "metadata": {},
     "output_type": "execute_result"
    }
   ],
   "source": [
    "predictions"
   ]
  },
  {
   "cell_type": "code",
   "execution_count": 8,
   "id": "a0d2ca40-08c4-42fd-816b-8969e88e9d90",
   "metadata": {},
   "outputs": [
    {
     "data": {
      "text/plain": [
       "{'N': {'n': 0, 'a': 2, 'o': 0, 'p': 0},\n",
       " 'A': {'n': 0, 'a': 0, 'o': 0, 'p': 0},\n",
       " 'O': {'n': 0, 'a': 0, 'o': 0, 'p': 0},\n",
       " 'P': {'n': 0, 'a': 0, 'o': 0, 'p': 0}}"
      ]
     },
     "execution_count": 8,
     "metadata": {},
     "output_type": "execute_result"
    }
   ],
   "source": [
    "Conf_Matrix"
   ]
  },
  {
   "cell_type": "code",
   "execution_count": null,
   "id": "c6f3fc29-775b-4be9-8d16-e5f43a1328c8",
   "metadata": {},
   "outputs": [],
   "source": []
  },
  {
   "cell_type": "code",
   "execution_count": null,
   "id": "d15b43a5-f084-4536-ae44-b316ec792e71",
   "metadata": {},
   "outputs": [],
   "source": []
  }
 ],
 "metadata": {
  "kernelspec": {
   "display_name": "Python [conda env:pytorch]",
   "language": "python",
   "name": "conda-env-pytorch-py"
  },
  "language_info": {
   "codemirror_mode": {
    "name": "ipython",
    "version": 3
   },
   "file_extension": ".py",
   "mimetype": "text/x-python",
   "name": "python",
   "nbconvert_exporter": "python",
   "pygments_lexer": "ipython3",
   "version": "3.8.13"
  }
 },
 "nbformat": 4,
 "nbformat_minor": 5
}
